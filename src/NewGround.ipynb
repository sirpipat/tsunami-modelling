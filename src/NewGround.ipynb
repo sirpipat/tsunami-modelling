{
 "cells": [
  {
   "cell_type": "code",
   "execution_count": 1,
   "metadata": {},
   "outputs": [],
   "source": [
    "# standard Python packages for scientific computing:\n",
    "import numpy as np  # Numerical Python\n",
    "import matplotlib.pyplot as plt  # plotting\n",
    "import math as m\n",
    "import os  # operating system / file utilities\n",
    "import sys\n",
    "from timestep import *\n",
    "from grid1DCartesian import *\n",
    "from copy import copy\n",
    "    \n",
    "# from numba import jit\n",
    "# first did \"conda install numba\".  See\n",
    "# https://numba.readthedocs.io/en/stable/user/5minguide.html"
   ]
  },
  {
   "cell_type": "code",
   "execution_count": 2,
   "metadata": {},
   "outputs": [],
   "source": [
    "# default figure size okay if notebook is zoomed for class presentation:\n",
    "# plt.rcParams[\"figure.figsize\"] = [6.4, 4.8] # default\n",
    "plt.rcParams[\"figure.figsize\"] = [8.0, 6.0]"
   ]
  },
  {
   "cell_type": "code",
   "execution_count": 3,
   "metadata": {},
   "outputs": [],
   "source": [
    "# create a subdirectory to hold figures\n",
    "# (if it doesn't exist already)\n",
    "os.makedirs(\"../figs\", exist_ok=True)"
   ]
  },
  {
   "cell_type": "code",
   "execution_count": 4,
   "metadata": {},
   "outputs": [],
   "source": [
    "def init_smooth(N):\n",
    "    # created the grid\n",
    "    x = np.linspace(0, 1, N+1)\n",
    "    x = (x[0:-1] + x[1:]) / 2\n",
    "    u = np.zeros(np.size(x))\n",
    "    \n",
    "    # set initial conditions\n",
    "    u = 1 * np.exp(- (x-0.5) ** 2 / 0.1 ** 2)\n",
    "    \n",
    "    return x, u"
   ]
  },
  {
   "cell_type": "code",
   "execution_count": 5,
   "metadata": {},
   "outputs": [],
   "source": [
    "def init_step(N):\n",
    "    # created the grid\n",
    "    x = np.linspace(0, 1, N+1)\n",
    "    x = (x[0:-1] + x[1:]) / 2\n",
    "    u = np.zeros(np.size(x))\n",
    "    \n",
    "    # set initial conditions\n",
    "    u = 1 * np.exp(- (x-0.3) ** 2 / 0.07 ** 2)\n",
    "    where = np.where(np.abs(x-0.7) <= 0.1)[0]\n",
    "    u[where] = 1\n",
    "\n",
    "    return x, u"
   ]
  },
  {
   "cell_type": "markdown",
   "metadata": {},
   "source": [
    "### Functions for shallow water wave propagation"
   ]
  },
  {
   "cell_type": "code",
   "execution_count": 6,
   "metadata": {},
   "outputs": [],
   "source": [
    "# make the function name more descriptive and relevant\n",
    "def find_uL_uR(x, u):\n",
    "    alpha = 4\n",
    "    \n",
    "    u1 = (7/12 * (u + np.roll(u, -1))) - (1/12 * (np.roll(u, 1) + np.roll(u, -2)))\n",
    "    \n",
    "    uMPL = u + minmod(np.roll(u, -1) - u, alpha * (u - np.roll(u, 1)))\n",
    "    uL = median(u1, u, uMPL)\n",
    "    uMPR = np.roll(u, -1) + minmod(u - np.roll(u, -1), \\\n",
    "                                   alpha * (np.roll(u, -1) - np.roll(u, -2)))\n",
    "    uR = median(u1, np.roll(u, -1), uMPR)\n",
    "    \n",
    "    return uL, uR"
   ]
  },
  {
   "cell_type": "code",
   "execution_count": 7,
   "metadata": {},
   "outputs": [],
   "source": [
    "def flux_hat(h, u, b):\n",
    "    f = np.array([u*h, 1/2*(u**2)+g*(h+b)])\n",
    "    return f"
   ]
  },
  {
   "cell_type": "code",
   "execution_count": 8,
   "metadata": {},
   "outputs": [],
   "source": [
    "def flux(x, q, b):\n",
    "    c_abs = np.abs(q[1,:]) + np.sqrt(g * q[0,:])\n",
    "    c_max = maxmax(c_abs, np.roll(c_abs, -1)) * 1.1\n",
    "    \n",
    "    hL, hR = find_uL_uR(x, q[0,:])\n",
    "    uL, uR = find_uL_uR(x, q[1,:])\n",
    "    \n",
    "    f_hatL = flux_hat(hL, uL, b)\n",
    "    f_hatR = flux_hat(hR, uR, b)\n",
    "    \n",
    "    f = 1/2 * (f_hatL + f_hatR) - 1/2 * np.abs(c_max) * np.array([hR - hL, uR - uL])\n",
    "    return f"
   ]
  },
  {
   "cell_type": "code",
   "execution_count": 9,
   "metadata": {},
   "outputs": [],
   "source": [
    "# advect 1 step\n",
    "def advect_1step(x, q, b, g, t0, dt):\n",
    "    # here assumes uniform grid\n",
    "    dx = x[1] - x[0]\n",
    "    \n",
    "    w0 = q\n",
    "    f0 = flux(x, w0, b)\n",
    "\n",
    "    w1 = w0 + (dt / dx) * (- f0 + np.roll(f0, 1))\n",
    "    f1 = flux(x, w1, b)\n",
    "    w2 = 3/4 * w0 + 1/4 * (w1 + (dt / dx) * (- f1 + np.roll(f1, 1)))\n",
    "    f2 = flux(x, w2, b)\n",
    "    w3 = 1/3 * w0 + 2/3 * (w2 + (dt / dx) * (- f2 + np.roll(f2, 1)))\n",
    "    q_next = w3\n",
    "    \n",
    "    t = t0 + dt\n",
    "    \n",
    "    return q_next, t"
   ]
  },
  {
   "cell_type": "markdown",
   "metadata": {},
   "source": [
    "## New Run"
   ]
  },
  {
   "cell_type": "code",
   "execution_count": 10,
   "metadata": {},
   "outputs": [],
   "source": [
    "# gravity acceleration\n",
    "g = 1\n",
    "# depth scale\n",
    "b_0 = -1\n",
    "# initial velocity\n",
    "u_0 = 0\n",
    "# number of grid points\n",
    "N = 100\n",
    "# intialization of profile (TODO)\n",
    "x, eta = init_step(N)\n",
    "eta = eta * 0.5\n",
    "# bathymetry elevation relative to MSL\n",
    "b = np.ones(np.size(x)) * b_0\n",
    "# water depth (from bottom to water surface)\n",
    "h = eta - b\n",
    "# water speed\n",
    "u = np.ones(np.size(x)) * u_0\n",
    "# water wave speed\n",
    "c = np.sqrt(g * h)\n",
    "\n",
    "# quantity for computation\n",
    "q = np.array([h, u])\n",
    "q_init = q"
   ]
  },
  {
   "cell_type": "code",
   "execution_count": 11,
   "metadata": {},
   "outputs": [
    {
     "data": {
      "image/png": "[encoded data removed]",
      "text/plain": [
       "<Figure size 576x432 with 1 Axes>"
      ]
     },
     "metadata": {
      "needs_background": "light"
     },
     "output_type": "display_data"
    }
   ],
   "source": [
    "plt.plot(x, q[0,:], '+', label = 'h')\n",
    "plt.plot(x, q[1,:], '+', label = 'u')\n",
    "plt.plot(x, c, '+', label = 'c')\n",
    "plt.grid()\n",
    "plt.xlabel('x (m)')\n",
    "plt.ylabel('values')\n",
    "plt.legend()\n",
    "plt.title('Initial condition')\n",
    "plt.show()"
   ]
  },
  {
   "cell_type": "code",
   "execution_count": 12,
   "metadata": {},
   "outputs": [],
   "source": [
    "c_abs = np.abs(q[1,:]) + np.sqrt(g * q[0,:])\n",
    "c_max = maxmax(c_abs, np.roll(c_abs, -1)) * 1.1"
   ]
  },
  {
   "cell_type": "code",
   "execution_count": 13,
   "metadata": {},
   "outputs": [
    {
     "data": {
      "image/png": "[encoded data removed]",
      "text/plain": [
       "<Figure size 576x432 with 1 Axes>"
      ]
     },
     "metadata": {
      "needs_background": "light"
     },
     "output_type": "display_data"
    }
   ],
   "source": [
    "plt.plot(x, c, '+', label = 'c')\n",
    "plt.plot(x, c_abs, '+', label = 'c$_{abs}$')\n",
    "plt.plot(x, c_max, '+', label = 'c$_{max}$')\n",
    "plt.grid()\n",
    "plt.legend()\n",
    "plt.show()"
   ]
  },
  {
   "cell_type": "code",
   "execution_count": 14,
   "metadata": {},
   "outputs": [],
   "source": [
    "hL, hR = find_uL_uR(x, h)\n",
    "uL, uR = find_uL_uR(x, u)"
   ]
  },
  {
   "cell_type": "code",
   "execution_count": 15,
   "metadata": {},
   "outputs": [
    {
     "data": {
      "image/png": "[encoded data removed]",
      "text/plain": [
       "<Figure size 576x432 with 1 Axes>"
      ]
     },
     "metadata": {
      "needs_background": "light"
     },
     "output_type": "display_data"
    }
   ],
   "source": [
    "plt.plot(x, hR-hL, '+', label = 'hR-hL')\n",
    "plt.plot(x, uR-uL, '+', label = 'uR-uL')\n",
    "plt.grid()\n",
    "plt.xlabel('x (m)')\n",
    "plt.ylabel('values')\n",
    "plt.legend()\n",
    "plt.show()"
   ]
  },
  {
   "cell_type": "code",
   "execution_count": 16,
   "metadata": {},
   "outputs": [],
   "source": [
    "f = flux(x, q, b)"
   ]
  },
  {
   "cell_type": "code",
   "execution_count": 17,
   "metadata": {},
   "outputs": [
    {
     "data": {
      "text/plain": [
       "(2, 100)"
      ]
     },
     "execution_count": 17,
     "metadata": {},
     "output_type": "execute_result"
    }
   ],
   "source": [
    "np.shape(f)"
   ]
  },
  {
   "cell_type": "code",
   "execution_count": 18,
   "metadata": {},
   "outputs": [
    {
     "data": {
      "image/png": "[encoded data removed]",
      "text/plain": [
       "<Figure size 576x432 with 1 Axes>"
      ]
     },
     "metadata": {
      "needs_background": "light"
     },
     "output_type": "display_data"
    }
   ],
   "source": [
    "plt.plot(x+(x[1]-x[0])/2, f[0,:], label = 'f1')\n",
    "plt.plot(x+(x[1]-x[0])/2, f[1,:], label = 'f2')\n",
    "plt.grid()\n",
    "plt.xlabel('x (m)')\n",
    "plt.ylabel('values')\n",
    "plt.legend()\n",
    "plt.show()"
   ]
  },
  {
   "cell_type": "code",
   "execution_count": 19,
   "metadata": {},
   "outputs": [],
   "source": [
    "t0 = 0\n",
    "CFL = 0.01\n",
    "dx = x[1] - x[0]\n",
    "\n",
    "q = q_init\n",
    "t = t0"
   ]
  },
  {
   "cell_type": "code",
   "execution_count": 20,
   "metadata": {},
   "outputs": [],
   "source": [
    "Nsteps = 1000\n",
    "for ii in range(Nsteps):\n",
    "    dt = CFL * dx / np.amax(np.abs(q[1,:]) + np.sqrt(g * q[0,:]))\n",
    "    q, t = advect_1step(x, q, b, g, t, dt)"
   ]
  },
  {
   "cell_type": "code",
   "execution_count": 21,
   "metadata": {},
   "outputs": [
    {
     "data": {
      "text/plain": [
       "Text(0.5, 1.0, 't = 0.0743375 s')"
      ]
     },
     "execution_count": 21,
     "metadata": {},
     "output_type": "execute_result"
    },
    {
     "data": {
      "image/png": "[encoded data removed]",
      "text/plain": [
       "<Figure size 576x432 with 1 Axes>"
      ]
     },
     "metadata": {
      "needs_background": "light"
     },
     "output_type": "display_data"
    }
   ],
   "source": [
    "plt.plot(x, q_init[0,:], '-', label = 'h_init')\n",
    "plt.plot(x, q[0,:], '+', label = 'h')\n",
    "plt.plot(x, q[1,:], '+', label = 'u')\n",
    "plt.plot(x, np.sqrt(g * q[0,:]), '+', label = 'c')\n",
    "plt.grid()\n",
    "plt.xlabel('x (m)')\n",
    "plt.ylabel('values')\n",
    "plt.legend()\n",
    "plt.title('t = %.7f s' % t)\n",
    "#plt.show()"
   ]
  },
  {
   "cell_type": "code",
   "execution_count": 22,
   "metadata": {},
   "outputs": [
    {
     "data": {
      "text/plain": [
       "13424.399303877799"
      ]
     },
     "execution_count": 22,
     "metadata": {},
     "output_type": "execute_result"
    }
   ],
   "source": [
    "1/dt"
   ]
  },
  {
   "cell_type": "code",
   "execution_count": 23,
   "metadata": {},
   "outputs": [
    {
     "data": {
      "text/plain": [
       "7.449122879644514e-05"
      ]
     },
     "execution_count": 23,
     "metadata": {},
     "output_type": "execute_result"
    }
   ],
   "source": [
    "dt"
   ]
  },
  {
   "cell_type": "code",
   "execution_count": 24,
   "metadata": {},
   "outputs": [],
   "source": [
    "c_abs = np.abs(q[1,:]) + np.sqrt(g * q[0,:])\n",
    "c_max = maxmax(c_abs, np.roll(c_abs, -1)) * 1.1\n",
    "\n",
    "hL, hR = find_uL_uR(x, q[0,:])\n",
    "uL, uR = find_uL_uR(x, q[1,:])\n",
    "\n",
    "f_hatL = flux_hat(hL, uL, b)\n",
    "f_hatR = flux_hat(hR, uR, b)"
   ]
  },
  {
   "cell_type": "code",
   "execution_count": 25,
   "metadata": {},
   "outputs": [
    {
     "data": {
      "image/png": "[encoded data removed]",
      "text/plain": [
       "<Figure size 576x432 with 1 Axes>"
      ]
     },
     "metadata": {
      "needs_background": "light"
     },
     "output_type": "display_data"
    }
   ],
   "source": [
    "plt.plot(x, hR-hL, '+', label = 'hR-hL')\n",
    "plt.plot(x, uR-uL, '+', label = 'uR-uL')\n",
    "plt.grid()\n",
    "plt.xlabel('x (m)')\n",
    "plt.ylabel('values')\n",
    "plt.legend()\n",
    "plt.show()"
   ]
  },
  {
   "cell_type": "code",
   "execution_count": 26,
   "metadata": {},
   "outputs": [
    {
     "data": {
      "text/plain": [
       "0.07433752441327572"
      ]
     },
     "execution_count": 26,
     "metadata": {},
     "output_type": "execute_result"
    }
   ],
   "source": [
    "t"
   ]
  },
  {
   "cell_type": "code",
   "execution_count": 27,
   "metadata": {},
   "outputs": [
    {
     "data": {
      "text/plain": [
       "116.20358847029001"
      ]
     },
     "execution_count": 27,
     "metadata": {},
     "output_type": "execute_result"
    }
   ],
   "source": [
    "np.sum(q_init[0,:])"
   ]
  },
  {
   "cell_type": "code",
   "execution_count": 28,
   "metadata": {},
   "outputs": [
    {
     "data": {
      "text/plain": [
       "116.20385386740838"
      ]
     },
     "execution_count": 28,
     "metadata": {},
     "output_type": "execute_result"
    }
   ],
   "source": [
    "np.sum(q[0,:])"
   ]
  },
  {
   "cell_type": "code",
   "execution_count": 29,
   "metadata": {},
   "outputs": [
    {
     "data": {
      "image/png": "[encoded data removed]",
      "text/plain": [
       "<Figure size 576x432 with 1 Axes>"
      ]
     },
     "metadata": {
      "needs_background": "light"
     },
     "output_type": "display_data"
    }
   ],
   "source": [
    "plt.plot(x, f_hatL[0,:] + f_hatR[0,:], label = 'f_hat1 = h')\n",
    "plt.plot(x, f_hatL[1,:] + f_hatR[1,:], label = 'f_hat2 = u')\n",
    "plt.grid()\n",
    "plt.xlabel('x (m)')\n",
    "plt.ylabel('values')\n",
    "plt.legend()\n",
    "plt.show()"
   ]
  },
  {
   "cell_type": "code",
   "execution_count": 30,
   "metadata": {},
   "outputs": [],
   "source": [
    "f = flux(x, q, b)"
   ]
  },
  {
   "cell_type": "code",
   "execution_count": 31,
   "metadata": {},
   "outputs": [
    {
     "data": {
      "image/png": "[encoded data removed]",
      "text/plain": [
       "<Figure size 576x432 with 1 Axes>"
      ]
     },
     "metadata": {
      "needs_background": "light"
     },
     "output_type": "display_data"
    }
   ],
   "source": [
    "plt.plot(x, np.roll(f,-1)[0,:] - f[0,:], label = 'df1')\n",
    "plt.plot(x, np.roll(f,-1)[1,:] - f[1,:], label = 'df2')\n",
    "plt.grid()\n",
    "plt.xlabel('x (m)')\n",
    "plt.ylabel('values')\n",
    "plt.legend()\n",
    "plt.show()"
   ]
  },
  {
   "cell_type": "code",
   "execution_count": 32,
   "metadata": {},
   "outputs": [],
   "source": [
    "# define bathymetry\n",
    "bGrid = Grid1DCartesian(0,100,200,2)\n",
    "x = bGrid.get_grid('all')\n",
    "b = 0.5 * np.exp(- (x-50)**2 / 5**2) - 2\n",
    "bGrid.set_value(b, 'all')"
   ]
  },
  {
   "cell_type": "code",
   "execution_count": 33,
   "metadata": {},
   "outputs": [],
   "source": [
    "# define initial sea level\n",
    "sGrid = Grid1DCartesian(0,100,200,2)\n",
    "x = sGrid.get_grid('all')\n",
    "s = 0.2 * np.exp(- (x-10)**2 / 5**2)\n",
    "sGrid.set_value(s, 'all')"
   ]
  },
  {
   "cell_type": "code",
   "execution_count": 34,
   "metadata": {},
   "outputs": [
    {
     "data": {
      "image/png": "[encoded data removed]",
      "text/plain": [
       "<Figure size 576x432 with 1 Axes>"
      ]
     },
     "metadata": {
      "needs_background": "light"
     },
     "output_type": "display_data"
    }
   ],
   "source": [
    "plt.plot(x, b, '+-', label='bottom')\n",
    "plt.plot(x, s, '+-', label='surface')\n",
    "plt.grid()\n",
    "plt.legend()\n",
    "plt.xlabel('x (m)')\n",
    "plt.ylabel('y (m)')\n",
    "plt.show()"
   ]
  },
  {
   "cell_type": "code",
   "execution_count": 35,
   "metadata": {},
   "outputs": [],
   "source": [
    "# define water depth\n",
    "hGrid = sGrid - bGrid"
   ]
  },
  {
   "cell_type": "code",
   "execution_count": 36,
   "metadata": {},
   "outputs": [
    {
     "data": {
      "image/png": "[encoded data removed]",
      "text/plain": [
       "<Figure size 576x432 with 1 Axes>"
      ]
     },
     "metadata": {
      "needs_background": "light"
     },
     "output_type": "display_data"
    }
   ],
   "source": [
    "plt.plot(x, hGrid.get_value('all'))\n",
    "plt.grid()\n",
    "plt.show()"
   ]
  },
  {
   "cell_type": "code",
   "execution_count": 37,
   "metadata": {},
   "outputs": [],
   "source": [
    "# define velocity\n",
    "uGrid = Grid1DCartesian(0,100,200,2)\n",
    "u = np.zeros(np.shape(b))\n",
    "uGrid.set_value(u)"
   ]
  },
  {
   "cell_type": "code",
   "execution_count": 38,
   "metadata": {},
   "outputs": [],
   "source": [
    "# define momentum\n",
    "pGrid = hGrid * uGrid"
   ]
  },
  {
   "cell_type": "code",
   "execution_count": 97,
   "metadata": {},
   "outputs": [],
   "source": [
    "class DummyTest():\n",
    "    classtype = 'DummyTest'\n",
    "    \n",
    "    def __init__(self, a):\n",
    "        self.a = a\n",
    "        \n",
    "    def get_value(self):\n",
    "        return self.a\n",
    "    \n",
    "    def __add(self, other):\n",
    "        return self.__radd__(other)\n",
    "    \n",
    "    def __radd__(self, other):\n",
    "        if type(other) is DummyTest:\n",
    "            a = other.a\n",
    "        else:\n",
    "            a = other\n",
    "        r = DummyTest(self.a + a)\n",
    "        return r\n",
    "    \n",
    "    def __sub__(self, other):\n",
    "        return -1 * self.__rsub__(other)\n",
    "    \n",
    "    def __rsub__(self, other):\n",
    "        if type(other) is DummyTest:\n",
    "            a = other.a\n",
    "        else:\n",
    "            a = other\n",
    "        r = DummyTest(a - self.a)\n",
    "        return r\n",
    "    \n",
    "    def __mul__(self, other):\n",
    "        return self.__rmul__(other)\n",
    "    \n",
    "    def __rmul__(self, other):\n",
    "        if type(other) is DummyTest:\n",
    "            a = other.a\n",
    "        else:\n",
    "            a = other\n",
    "        r = DummyTest(self.a * a)\n",
    "        return r\n",
    "    \n",
    "    def __truediv__(self, other):\n",
    "        return self.__rtruediv__(other) ** (-1)\n",
    "    \n",
    "    def __rtruediv__(self, other):\n",
    "        if type(other) is DummyTest:\n",
    "            a = other.a\n",
    "        else:\n",
    "            a = other\n",
    "        r = DummyTest(a / self.a)\n",
    "        return r\n",
    "    \n",
    "    def __pow__(self, other):\n",
    "        if type(other) is DummyTest:\n",
    "            a = other.a\n",
    "        else:\n",
    "            a = other\n",
    "        r = DummyTest(self.a ** a)\n",
    "        return r\n",
    "    \n",
    "    def __getitem__(self, items):\n",
    "        print('items = ', items)\n",
    "        return self.a[items]"
   ]
  },
  {
   "cell_type": "code",
   "execution_count": 108,
   "metadata": {},
   "outputs": [],
   "source": [
    "aa = DummyTest(5)\n",
    "bb = DummyTest(7)"
   ]
  },
  {
   "cell_type": "code",
   "execution_count": 109,
   "metadata": {},
   "outputs": [],
   "source": [
    "cc = aa * bb"
   ]
  },
  {
   "cell_type": "code",
   "execution_count": 110,
   "metadata": {},
   "outputs": [
    {
     "data": {
      "text/plain": [
       "35"
      ]
     },
     "execution_count": 110,
     "metadata": {},
     "output_type": "execute_result"
    }
   ],
   "source": [
    "cc.a"
   ]
  },
  {
   "cell_type": "code",
   "execution_count": 111,
   "metadata": {},
   "outputs": [
    {
     "data": {
      "text/plain": [
       "25"
      ]
     },
     "execution_count": 111,
     "metadata": {},
     "output_type": "execute_result"
    }
   ],
   "source": [
    "dd = aa ** 2\n",
    "dd.a"
   ]
  },
  {
   "cell_type": "code",
   "execution_count": 44,
   "metadata": {},
   "outputs": [
    {
     "data": {
      "text/plain": [
       "True"
      ]
     },
     "execution_count": 44,
     "metadata": {},
     "output_type": "execute_result"
    }
   ],
   "source": [
    "type(2) is int"
   ]
  },
  {
   "cell_type": "code",
   "execution_count": 45,
   "metadata": {},
   "outputs": [
    {
     "data": {
      "text/plain": [
       "__main__.DummyTest"
      ]
     },
     "execution_count": 45,
     "metadata": {},
     "output_type": "execute_result"
    }
   ],
   "source": [
    "DummyTest"
   ]
  },
  {
   "cell_type": "code",
   "execution_count": 46,
   "metadata": {},
   "outputs": [],
   "source": [
    "ds = sGrid.get_value('grid',0) - sGrid.get_value('grid',-1)"
   ]
  },
  {
   "cell_type": "code",
   "execution_count": 47,
   "metadata": {},
   "outputs": [],
   "source": [
    "ds2 = s[2:202] - s[1:201]"
   ]
  },
  {
   "cell_type": "code",
   "execution_count": 48,
   "metadata": {},
   "outputs": [
    {
     "data": {
      "text/plain": [
       "[<matplotlib.lines.Line2D at 0x7fb1aaed6e50>]"
      ]
     },
     "execution_count": 48,
     "metadata": {},
     "output_type": "execute_result"
    },
    {
     "data": {
      "image/png": "[encoded data removed]",
      "text/plain": [
       "<Figure size 576x432 with 1 Axes>"
      ]
     },
     "metadata": {
      "needs_background": "light"
     },
     "output_type": "display_data"
    }
   ],
   "source": [
    "plt.plot((x[2:202]+x[1:201])/2, ds/(x[1]-x[0]))"
   ]
  },
  {
   "cell_type": "code",
   "execution_count": 49,
   "metadata": {},
   "outputs": [],
   "source": [
    "ee = np.array([1,2,3])"
   ]
  },
  {
   "cell_type": "code",
   "execution_count": 50,
   "metadata": {},
   "outputs": [
    {
     "data": {
      "text/plain": [
       "True"
      ]
     },
     "execution_count": 50,
     "metadata": {},
     "output_type": "execute_result"
    }
   ],
   "source": [
    "type(ee) is np.ndarray"
   ]
  },
  {
   "cell_type": "code",
   "execution_count": 51,
   "metadata": {},
   "outputs": [
    {
     "data": {
      "text/plain": [
       "[[1, 2, 3, 4],\n",
       " [1001, 1002, 1003, 1004],\n",
       " [1001, 1002, 1003, 1004],\n",
       " [1001, 1002, 1003, 1004]]"
      ]
     },
     "execution_count": 51,
     "metadata": {},
     "output_type": "execute_result"
    }
   ],
   "source": [
    "jj = [[1,2,3,4],[1001,1002,1003,1004],[1001,1002,1003,1004],[1001,1002,1003,1004]]\n",
    "kk = np.copy(jj)\n",
    "jj"
   ]
  },
  {
   "cell_type": "code",
   "execution_count": 52,
   "metadata": {},
   "outputs": [
    {
     "data": {
      "text/plain": [
       "[[1, 2, 3, 4],\n",
       " [1001, 1002, 1003, 1004],\n",
       " [1001, 1002, 1003, 1004],\n",
       " [1001, 1002, 1003, 1004]]"
      ]
     },
     "execution_count": 52,
     "metadata": {},
     "output_type": "execute_result"
    }
   ],
   "source": [
    "kk[2,2] = -1\n",
    "jj"
   ]
  },
  {
   "cell_type": "code",
   "execution_count": 58,
   "metadata": {},
   "outputs": [
    {
     "ename": "TypeError",
     "evalue": "unsupported operand type(s) for ** or pow(): 'int' and 'Grid1DCartesian'",
     "output_type": "error",
     "traceback": [
      "\u001b[0;31m---------------------------------------------------------------------------\u001b[0m",
      "\u001b[0;31mTypeError\u001b[0m                                 Traceback (most recent call last)",
      "\u001b[0;32m<ipython-input-58-e5d68e84f749>\u001b[0m in \u001b[0;36m<module>\u001b[0;34m\u001b[0m\n\u001b[0;32m----> 1\u001b[0;31m \u001b[0;36m3\u001b[0m\u001b[0;34m/\u001b[0m\u001b[0;36m12\u001b[0m \u001b[0;34m**\u001b[0m \u001b[0mhGrid\u001b[0m \u001b[0;34m-\u001b[0m \u001b[0msGrid\u001b[0m\u001b[0;34m\u001b[0m\u001b[0;34m\u001b[0m\u001b[0m\n\u001b[0m",
      "\u001b[0;31mTypeError\u001b[0m: unsupported operand type(s) for ** or pow(): 'int' and 'Grid1DCartesian'"
     ]
    }
   ],
   "source": [
    "3/12 ** hGrid - sGrid"
   ]
  },
  {
   "cell_type": "code",
   "execution_count": 112,
   "metadata": {},
   "outputs": [
    {
     "name": "stdout",
     "output_type": "stream",
     "text": [
      "items =  (1, 2)\n"
     ]
    },
    {
     "data": {
      "text/plain": [
       "7"
      ]
     },
     "execution_count": 112,
     "metadata": {},
     "output_type": "execute_result"
    }
   ],
   "source": [
    "ff = DummyTest(np.array([[1,2,3,4],[5,6,7,8]]))\n",
    "ff[1,2]"
   ]
  },
  {
   "cell_type": "code",
   "execution_count": 88,
   "metadata": {},
   "outputs": [],
   "source": [
    "ss = slice(None, None, -1)"
   ]
  },
  {
   "cell_type": "code",
   "execution_count": 90,
   "metadata": {},
   "outputs": [
    {
     "data": {
      "text/plain": [
       "slice"
      ]
     },
     "execution_count": 90,
     "metadata": {},
     "output_type": "execute_result"
    }
   ],
   "source": [
    "type(ss)"
   ]
  },
  {
   "cell_type": "code",
   "execution_count": 93,
   "metadata": {},
   "outputs": [
    {
     "data": {
      "text/plain": [
       "False"
      ]
     },
     "execution_count": 93,
     "metadata": {},
     "output_type": "execute_result"
    }
   ],
   "source": [
    "type(ss) is slice and False"
   ]
  },
  {
   "cell_type": "code",
   "execution_count": 107,
   "metadata": {},
   "outputs": [
    {
     "data": {
      "text/plain": [
       "tuple"
      ]
     },
     "execution_count": 107,
     "metadata": {},
     "output_type": "execute_result"
    }
   ],
   "source": [
    "type((1,2))"
   ]
  },
  {
   "cell_type": "code",
   "execution_count": 113,
   "metadata": {},
   "outputs": [],
   "source": [
    "aa_array = np.array([aa, bb, cc ,ff])"
   ]
  },
  {
   "cell_type": "code",
   "execution_count": 114,
   "metadata": {},
   "outputs": [
    {
     "data": {
      "text/plain": [
       "<__main__.DummyTest at 0x7fb1a9d52290>"
      ]
     },
     "execution_count": 114,
     "metadata": {},
     "output_type": "execute_result"
    }
   ],
   "source": [
    "aa_array[1]"
   ]
  },
  {
   "cell_type": "code",
   "execution_count": null,
   "metadata": {},
   "outputs": [],
   "source": []
  }
 ],
 "metadata": {
  "kernelspec": {
   "display_name": "Python 3",
   "language": "python",
   "name": "python3"
  },
  "language_info": {
   "codemirror_mode": {
    "name": "ipython",
    "version": 3
   },
   "file_extension": ".py",
   "mimetype": "text/x-python",
   "name": "python",
   "nbconvert_exporter": "python",
   "pygments_lexer": "ipython3",
   "version": "3.7.4"
  }
 },
 "nbformat": 4,
 "nbformat_minor": 2
}
