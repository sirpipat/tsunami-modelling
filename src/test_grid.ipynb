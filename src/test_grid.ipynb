{
 "cells": [
  {
   "cell_type": "code",
   "execution_count": 1,
   "metadata": {},
   "outputs": [],
   "source": [
    "# standard Python packages for scientific computing:\n",
    "import numpy as np  # Numerical Python\n",
    "import matplotlib.pyplot as plt  # plotting\n",
    "import math as m\n",
    "import os  # operating system / file utilities\n",
    "import sys\n",
    "from grid1DCartesian import *\n",
    "module_path = os.path.abspath(os.path.join('tests'))\n",
    "if module_path not in sys.path:\n",
    "    sys.path.append(module_path)\n",
    "from test_grid import *\n",
    "\n",
    "    \n",
    "# from numba import jit\n",
    "# first did \"conda install numba\".  See\n",
    "# https://numba.readthedocs.io/en/stable/user/5minguide.html"
   ]
  },
  {
   "cell_type": "code",
   "execution_count": 2,
   "metadata": {},
   "outputs": [],
   "source": [
    "# default figure size okay if notebook is zoomed for class presentation:\n",
    "# plt.rcParams[\"figure.figsize\"] = [6.4, 4.8] # default\n",
    "plt.rcParams[\"figure.figsize\"] = [8.0, 6.0]"
   ]
  },
  {
   "cell_type": "code",
   "execution_count": 3,
   "metadata": {},
   "outputs": [],
   "source": [
    "# create a subdirectory to hold figures\n",
    "# (if it doesn't exist already)\n",
    "os.makedirs(\"../figs\", exist_ok=True)"
   ]
  },
  {
   "cell_type": "markdown",
   "metadata": {},
   "source": [
    "## Test the Grid1DCartesian class\n",
    "If the assertion fails, there is something wrong."
   ]
  },
  {
   "cell_type": "code",
   "execution_count": 31,
   "metadata": {},
   "outputs": [],
   "source": [
    "test_Grid1DCartesian()"
   ]
  },
  {
   "cell_type": "markdown",
   "metadata": {},
   "source": [
    "## Older stuff"
   ]
  },
  {
   "cell_type": "code",
   "execution_count": 4,
   "metadata": {},
   "outputs": [],
   "source": [
    "def init_smooth(N):\n",
    "    # created the grid\n",
    "    x = np.linspace(0, 1, N+1)\n",
    "    x = (x[0:-1] + x[1:]) / 2\n",
    "    u = np.zeros(np.size(x))\n",
    "    \n",
    "    # set initial conditions\n",
    "    u = 1 * np.exp(- (x-0.3) ** 2 / 0.07 ** 2)\n",
    "    \n",
    "    return x, u\n",
    "\n",
    "def init_step(N):\n",
    "    # created the grid\n",
    "    x = np.linspace(0, 1, N+1)\n",
    "    x = (x[0:-1] + x[1:]) / 2\n",
    "    u = np.zeros(np.size(x))\n",
    "    \n",
    "    # set initial conditions\n",
    "    u = 1 * np.exp(- (x-0.3) ** 2 / 0.07 ** 2)\n",
    "    where = np.where(np.abs(x-0.7) <= 0.1)[0]\n",
    "    u[where] = 1\n",
    "\n",
    "    return x, u"
   ]
  },
  {
   "cell_type": "code",
   "execution_count": 5,
   "metadata": {},
   "outputs": [],
   "source": [
    "N = 100\n",
    "x, u = init_step(N)"
   ]
  },
  {
   "cell_type": "code",
   "execution_count": 6,
   "metadata": {},
   "outputs": [],
   "source": [
    "Nghost = 4\n",
    "xmin = -5\n",
    "xmax = 5\n",
    "val = Grid1DCartesian(xmin, xmax, N, Nghost)\n",
    "x = val.get_grid('grid')\n",
    "u = np.cos(2.732 * np.pi * (x - xmin) / (xmax - xmin))"
   ]
  },
  {
   "cell_type": "code",
   "execution_count": 7,
   "metadata": {},
   "outputs": [
    {
     "data": {
      "text/plain": [
       "108"
      ]
     },
     "execution_count": 7,
     "metadata": {},
     "output_type": "execute_result"
    }
   ],
   "source": [
    "np.size(val._x)"
   ]
  },
  {
   "cell_type": "code",
   "execution_count": 8,
   "metadata": {},
   "outputs": [
    {
     "data": {
      "text/plain": [
       "108"
      ]
     },
     "execution_count": 8,
     "metadata": {},
     "output_type": "execute_result"
    }
   ],
   "source": [
    "np.size(val._u)"
   ]
  },
  {
   "cell_type": "code",
   "execution_count": 9,
   "metadata": {},
   "outputs": [],
   "source": [
    "# define values at the ghost cells as the value of the nearest grid cell\n",
    "ghost_indices = np.zeros(Nghost, dtype = int)\n",
    "add_indices = np.concatenate((ghost_indices, ghost_indices + N))\n",
    "ghost_values = np.ones(Nghost)\n",
    "add_values = np.concatenate((ghost_values * u[0], ghost_values * u[-1]))\n",
    "u_all = np.insert(u, add_indices, add_values)"
   ]
  },
  {
   "cell_type": "code",
   "execution_count": 10,
   "metadata": {},
   "outputs": [
    {
     "data": {
      "text/plain": [
       "108"
      ]
     },
     "execution_count": 10,
     "metadata": {},
     "output_type": "execute_result"
    }
   ],
   "source": [
    "np.size(u_all)"
   ]
  },
  {
   "cell_type": "code",
   "execution_count": 11,
   "metadata": {},
   "outputs": [],
   "source": [
    "val.set_value(u_all)"
   ]
  },
  {
   "cell_type": "code",
   "execution_count": 12,
   "metadata": {},
   "outputs": [
    {
     "data": {
      "image/png": "[encoded data removed]",
      "text/plain": [
       "<Figure size 576x432 with 1 Axes>"
      ]
     },
     "metadata": {
      "needs_background": "light"
     },
     "output_type": "display_data"
    }
   ],
   "source": [
    "xx = val.get_grid()\n",
    "vv = val.get_value()\n",
    "\n",
    "plt.plot(xx,vv,'-o')\n",
    "plt.grid()"
   ]
  },
  {
   "cell_type": "code",
   "execution_count": 13,
   "metadata": {},
   "outputs": [],
   "source": [
    "assert val.get_ndims() == 1"
   ]
  },
  {
   "cell_type": "code",
   "execution_count": 14,
   "metadata": {},
   "outputs": [
    {
     "data": {
      "text/plain": [
       "array([4])"
      ]
     },
     "execution_count": 14,
     "metadata": {},
     "output_type": "execute_result"
    }
   ],
   "source": [
    "a = val.get_first_grid()\n",
    "a"
   ]
  },
  {
   "cell_type": "code",
   "execution_count": 15,
   "metadata": {},
   "outputs": [
    {
     "data": {
      "text/plain": [
       "array([104])"
      ]
     },
     "execution_count": 15,
     "metadata": {},
     "output_type": "execute_result"
    }
   ],
   "source": [
    "b = val.get_last_grid()\n",
    "b"
   ]
  },
  {
   "cell_type": "code",
   "execution_count": 16,
   "metadata": {},
   "outputs": [
    {
     "data": {
      "text/plain": [
       "array([-4.95])"
      ]
     },
     "execution_count": 16,
     "metadata": {},
     "output_type": "execute_result"
    }
   ],
   "source": [
    "xx[a]"
   ]
  },
  {
   "cell_type": "code",
   "execution_count": 17,
   "metadata": {},
   "outputs": [
    {
     "data": {
      "text/plain": [
       "array([5.05])"
      ]
     },
     "execution_count": 17,
     "metadata": {},
     "output_type": "execute_result"
    }
   ],
   "source": [
    "xx[b]"
   ]
  },
  {
   "cell_type": "code",
   "execution_count": 18,
   "metadata": {},
   "outputs": [
    {
     "data": {
      "text/plain": [
       "array([-4.95, -4.85, -4.75, -4.65, -4.55, -4.45, -4.35, -4.25, -4.15,\n",
       "       -4.05, -3.95, -3.85, -3.75, -3.65, -3.55, -3.45, -3.35, -3.25,\n",
       "       -3.15, -3.05, -2.95, -2.85, -2.75, -2.65, -2.55, -2.45, -2.35,\n",
       "       -2.25, -2.15, -2.05, -1.95, -1.85, -1.75, -1.65, -1.55, -1.45,\n",
       "       -1.35, -1.25, -1.15, -1.05, -0.95, -0.85, -0.75, -0.65, -0.55,\n",
       "       -0.45, -0.35, -0.25, -0.15, -0.05,  0.05,  0.15,  0.25,  0.35,\n",
       "        0.45,  0.55,  0.65,  0.75,  0.85,  0.95,  1.05,  1.15,  1.25,\n",
       "        1.35,  1.45,  1.55,  1.65,  1.75,  1.85,  1.95,  2.05,  2.15,\n",
       "        2.25,  2.35,  2.45,  2.55,  2.65,  2.75,  2.85,  2.95,  3.05,\n",
       "        3.15,  3.25,  3.35,  3.45,  3.55,  3.65,  3.75,  3.85,  3.95,\n",
       "        4.05,  4.15,  4.25,  4.35,  4.45,  4.55,  4.65,  4.75,  4.85,\n",
       "        4.95])"
      ]
     },
     "execution_count": 18,
     "metadata": {},
     "output_type": "execute_result"
    }
   ],
   "source": [
    "xx[a[0]:b[0]]"
   ]
  },
  {
   "cell_type": "code",
   "execution_count": null,
   "metadata": {},
   "outputs": [],
   "source": [
    "# define variables\n",
    "h = "
   ]
  }
 ],
 "metadata": {
  "kernelspec": {
   "display_name": "Python 3",
   "language": "python",
   "name": "python3"
  },
  "language_info": {
   "codemirror_mode": {
    "name": "ipython",
    "version": 3
   },
   "file_extension": ".py",
   "mimetype": "text/x-python",
   "name": "python",
   "nbconvert_exporter": "python",
   "pygments_lexer": "ipython3",
   "version": "3.7.4"
  }
 },
 "nbformat": 4,
 "nbformat_minor": 2
}
