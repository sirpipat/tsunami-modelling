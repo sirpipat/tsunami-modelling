{
 "cells": [
  {
   "cell_type": "code",
   "execution_count": 1,
   "metadata": {},
   "outputs": [],
   "source": [
    "# standard Python packages for scientific computing:\n",
    "import numpy as np  # Numerical Python\n",
    "import matplotlib.pyplot as plt  # plotting\n",
    "import math as m\n",
    "import os  # operating system / file utilities\n",
    "import sys\n",
    "from Grid1DCartesian import *\n",
    "module_path = os.path.abspath(os.path.join('tests'))\n",
    "if module_path not in sys.path:\n",
    "    sys.path.append(module_path)\n",
    "from test_grid import *\n",
    "\n",
    "    \n",
    "# from numba import jit\n",
    "# first did \"conda install numba\".  See\n",
    "# https://numba.readthedocs.io/en/stable/user/5minguide.html"
   ]
  },
  {
   "cell_type": "code",
   "execution_count": 2,
   "metadata": {},
   "outputs": [],
   "source": [
    "# default figure size okay if notebook is zoomed for class presentation:\n",
    "# plt.rcParams[\"figure.figsize\"] = [6.4, 4.8] # default\n",
    "plt.rcParams[\"figure.figsize\"] = [8.0, 6.0]"
   ]
  },
  {
   "cell_type": "code",
   "execution_count": 3,
   "metadata": {},
   "outputs": [],
   "source": [
    "# create a subdirectory to hold figures\n",
    "# (if it doesn't exist already)\n",
    "os.makedirs(\"../figs\", exist_ok=True)"
   ]
  },
  {
   "cell_type": "markdown",
   "metadata": {},
   "source": [
    "## Test the Grid1DCartesian class\n",
    "If the assertion fails, there is something wrong."
   ]
  },
  {
   "cell_type": "code",
   "execution_count": 31,
   "metadata": {},
   "outputs": [],
   "source": [
    "test_Grid1DCartesian()"
   ]
  }
 ],
 "metadata": {
  "kernelspec": {
   "display_name": "Python 3",
   "language": "python",
   "name": "python3"
  },
  "language_info": {
   "codemirror_mode": {
    "name": "ipython",
    "version": 3
   },
   "file_extension": ".py",
   "mimetype": "text/x-python",
   "name": "python",
   "nbconvert_exporter": "python",
   "pygments_lexer": "ipython3",
   "version": "3.7.4"
  }
 },
 "nbformat": 4,
 "nbformat_minor": 2
}
